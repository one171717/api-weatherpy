{
 "cells": [
  {
   "cell_type": "code",
   "execution_count": 9,
   "metadata": {},
   "outputs": [],
   "source": [
    "import numpy as np\n",
    "import pandas as pd\n",
    "import matplotlib.pyplot as plt\n",
    "import requests\n",
    "import random\n",
    "from citipy import citipy\n",
    "from config import gkey\n",
    "from config import api_key"
   ]
  },
  {
   "cell_type": "code",
   "execution_count": 10,
   "metadata": {},
   "outputs": [
    {
     "data": {
      "text/plain": [
       "(16200, 2)"
      ]
     },
     "execution_count": 10,
     "metadata": {},
     "output_type": "execute_result"
    }
   ],
   "source": [
    "\n",
    "# Getting a sample that is representative of the world cities.# Getti \n",
    "\n",
    "# Set Lat & Lon Zones to randomly pick coordinates - So, we have some from each region.\n",
    "lat_zone = np.arange(-90,90,15)\n",
    "lon_zone = np.arange(-200,200,15)\n",
    "\n",
    "\n",
    "# Creating a new data frame to hold randomly picked coordinates and corresponding city information\n",
    "cities_df = pd.DataFrame()\n",
    "\n",
    "cities_df[\"Latitude\"] = \"\"\n",
    "cities_df[\"Longitude\"] = \"\"\n",
    "\n",
    "# From each zone, randomly pick 50 unique coordinates and adding to the dataframe.\n",
    "for x in lat_zone:\n",
    "    for y in lon_zone:\n",
    "        x_values = list(np.arange(x,x+15,0.01))\n",
    "        y_values = list(np.arange(y,y+15,0.01))\n",
    "        lats = random.sample(x_values,50)\n",
    "        lons = random.sample(y_values,50)\n",
    "        lat_samples = [(x+dec_lat) for dec_lat in lats]\n",
    "        lon_samples = [y+dec_lon for dec_lon in lons]\n",
    "        cities_df = cities_df.append(pd.DataFrame.from_dict({\"Latitude\":lat_samples,\n",
    "                                       \"Longitude\":lon_samples}))\n",
    "cities_df = cities_df.reset_index(drop=True)\n",
    "cities_df.shape"
   ]
  },
  {
   "cell_type": "code",
   "execution_count": 11,
   "metadata": {},
   "outputs": [
    {
     "data": {
      "text/plain": [
       "1"
      ]
     },
     "execution_count": 11,
     "metadata": {},
     "output_type": "execute_result"
    }
   ],
   "source": []
  },
  {
   "cell_type": "code",
   "execution_count": null,
   "metadata": {},
   "outputs": [],
   "source": []
  }
 ],
 "metadata": {
  "kernelspec": {
   "display_name": "Python 3",
   "language": "python",
   "name": "python3"
  },
  "language_info": {
   "codemirror_mode": {
    "name": "ipython",
    "version": 3
   },
   "file_extension": ".py",
   "mimetype": "text/x-python",
   "name": "python",
   "nbconvert_exporter": "python",
   "pygments_lexer": "ipython3",
   "version": "3.6.4"
  }
 },
 "nbformat": 4,
 "nbformat_minor": 2
}
